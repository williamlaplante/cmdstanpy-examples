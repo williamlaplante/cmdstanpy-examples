{
 "cells": [
  {
   "cell_type": "code",
   "execution_count": 12,
   "id": "34df27e3",
   "metadata": {},
   "outputs": [],
   "source": [
    "from cmdstanpy import CmdStanModel\n",
    "import matplotlib.pyplot as plt\n",
    "from scipy.stats import beta\n",
    "import numpy as np\n",
    "\n",
    "path = './stanfiles/Bernoulli.stan' #Path to Stan model"
   ]
  },
  {
   "cell_type": "markdown",
   "id": "f5452c84",
   "metadata": {},
   "source": [
    "### Model and Data"
   ]
  },
  {
   "cell_type": "code",
   "execution_count": 3,
   "id": "f87e480c",
   "metadata": {},
   "outputs": [],
   "source": [
    "model = CmdStanModel(stan_file = path)\n",
    "\n",
    "data = {\n",
    "    \"N\" : 10,\n",
    "    \"y\" : [0,1,0,0,0,0,0,0,0,1]\n",
    "}"
   ]
  },
  {
   "cell_type": "markdown",
   "id": "cda01ce5",
   "metadata": {},
   "source": [
    "### Sampling From Posterior"
   ]
  },
  {
   "cell_type": "code",
   "execution_count": 6,
   "id": "fb2dbe4a",
   "metadata": {},
   "outputs": [
    {
     "name": "stderr",
     "output_type": "stream",
     "text": [
      "17:21:27 - cmdstanpy - INFO - CmdStan start processing\n",
      "chain 1 |\u001b[33m                                                         \u001b[0m| 00:00 Status\u001b[0m\n",
      "chain 2 |\u001b[33m                                                         \u001b[0m| 00:00 Status\u001b[0m\u001b[A\n",
      "\n",
      "chain 3 |\u001b[33m                                                         \u001b[0m| 00:00 Status\u001b[0m\u001b[A\u001b[A\n",
      "\n",
      "\n",
      "chain 1 |\u001b[34m█████████████████████▋\u001b[0m| 00:00 Iteration: 5800 / 6000 [ 96%]  (Sampling)\u001b[0m\u001b[A\u001b[A\u001b[A\n",
      "chain 2 |\u001b[34m█████████████████████▎\u001b[0m| 00:00 Iteration: 5700 / 6000 [ 95%]  (Sampling)\u001b[0m\u001b[A\n",
      "\n",
      "\n",
      "chain 1 |\u001b[34m█████████████████████████████████████████████\u001b[0m| 00:00 Sampling completed\u001b[0m\u001b[A\u001b[A\u001b[A\n",
      "chain 2 |\u001b[34m█████████████████████████████████████████████\u001b[0m| 00:00 Sampling completed\u001b[0m\n",
      "\n",
      "\n",
      "chain 3 |\u001b[34m█████████████████████████████████████████████\u001b[0m| 00:00 Sampling completed\u001b[0m\u001b[A\u001b[A\n",
      "chain 4 |\u001b[34m█████████████████████████████████████████████\u001b[0m| 00:00 Sampling completed\u001b[0m"
     ]
    },
    {
     "name": "stdout",
     "output_type": "stream",
     "text": [
      "                                                                                                                                                                                                                                                                                                                                "
     ]
    },
    {
     "name": "stderr",
     "output_type": "stream",
     "text": [
      "\n",
      "17:21:27 - cmdstanpy - INFO - CmdStan done processing.\n"
     ]
    },
    {
     "name": "stdout",
     "output_type": "stream",
     "text": [
      "\n"
     ]
    }
   ],
   "source": [
    "chains = 4\n",
    "draws = 5000\n",
    "\n",
    "fit = model.sample(data=data, iter_sampling = draws, chains=chains)"
   ]
  },
  {
   "cell_type": "code",
   "execution_count": 8,
   "id": "408b0abe",
   "metadata": {},
   "outputs": [
    {
     "data": {
      "text/plain": [
       "(5000, 4, 8)"
      ]
     },
     "execution_count": 8,
     "metadata": {},
     "output_type": "execute_result"
    }
   ],
   "source": [
    "#check that this equals (draws, chains, columns) \n",
    "#Note: columns is 7 + number of variables in your model (7 is a baseline for HMC)\n",
    "\n",
    "fit.draws().shape "
   ]
  },
  {
   "cell_type": "code",
   "execution_count": 9,
   "id": "0fa32f49",
   "metadata": {},
   "outputs": [
    {
     "name": "stdout",
     "output_type": "stream",
     "text": [
      "{'theta': array([0.183545, 0.121847, 0.264594, ..., 0.15022 , 0.228676, 0.293331])} \n",
      "\n",
      "Size :  20000\n"
     ]
    }
   ],
   "source": [
    "#All samples for theta:\n",
    "\n",
    "print(fit.stan_variables(), '\\n')\n",
    "print(\"Size : \", fit.stan_variables()['theta'].size)"
   ]
  },
  {
   "cell_type": "markdown",
   "id": "9a828ac7",
   "metadata": {},
   "source": [
    "### Results"
   ]
  },
  {
   "cell_type": "code",
   "execution_count": 10,
   "id": "6bcf3df8",
   "metadata": {},
   "outputs": [
    {
     "name": "stdout",
     "output_type": "stream",
     "text": [
      "           Mean      MCSE    StdDev       5%       50%       95%    N_Eff  \\\n",
      "lp__  -7.275000  0.008397  0.749303 -8.76915 -6.987240 -6.750020  7962.07   \n",
      "theta  0.250664  0.001366  0.119825  0.07917  0.237302  0.469278  7696.20   \n",
      "\n",
      "       N_Eff/s    R_hat  \n",
      "lp__   48549.2  1.00019  \n",
      "theta  46928.1  1.00047  \n"
     ]
    }
   ],
   "source": [
    "#Model Summary\n",
    "\n",
    "print(fit.summary())"
   ]
  },
  {
   "cell_type": "markdown",
   "id": "0950abff",
   "metadata": {},
   "source": [
    "The theoretical posterior distribution is:\n",
    "\n",
    "$P(\\theta | X) \\propto \\sum_{i=1}^{N} \\theta^{x_i}(1-\\theta)^{1-x_i} \n",
    "\\frac{\\Gamma(2)}{\\Gamma(1) \\Gamma(1)} = (1-\\theta)^8\\theta^2$, so\n",
    "\n",
    "$P(\\theta | X) \\propto \\text{Bernoulli}(3,9)$"
   ]
  },
  {
   "cell_type": "code",
   "execution_count": 13,
   "id": "8ba672cf",
   "metadata": {},
   "outputs": [],
   "source": [
    "x = np.linspace(0,1,1000)\n",
    "y = beta.pdf(x, 3, 9)"
   ]
  },
  {
   "cell_type": "code",
   "execution_count": 18,
   "id": "9e493557",
   "metadata": {},
   "outputs": [
    {
     "data": {
      "text/plain": [
       "Text(0, 0.5, 'posterior')"
      ]
     },
     "execution_count": 18,
     "metadata": {},
     "output_type": "execute_result"
    },
    {
     "data": {
      "image/png": "[encoded data removed]",
      "text/plain": [
       "<Figure size 640x480 with 1 Axes>"
      ]
     },
     "metadata": {},
     "output_type": "display_data"
    }
   ],
   "source": [
    "#Fit is very good!\n",
    "\n",
    "plt.hist(fit.stan_variables()['theta'],\n",
    "         bins=60,\n",
    "         density = True\n",
    "         );\n",
    "\n",
    "plt.plot(x,y)\n",
    "plt.xlabel(\"theta\")\n",
    "plt.ylabel(\"posterior\")"
   ]
  },
  {
   "cell_type": "code",
   "execution_count": null,
   "id": "a09bd2ae",
   "metadata": {},
   "outputs": [],
   "source": []
  }
 ],
 "metadata": {
  "kernelspec": {
   "display_name": "py3.10",
   "language": "python",
   "name": "py3.10"
  },
  "language_info": {
   "codemirror_mode": {
    "name": "ipython",
    "version": 3
   },
   "file_extension": ".py",
   "mimetype": "text/x-python",
   "name": "python",
   "nbconvert_exporter": "python",
   "pygments_lexer": "ipython3",
   "version": "3.10.8"
  }
 },
 "nbformat": 4,
 "nbformat_minor": 5
}
